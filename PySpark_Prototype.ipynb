{
  "nbformat": 4,
  "nbformat_minor": 0,
  "metadata": {
    "colab": {
      "provenance": [],
      "authorship_tag": "ABX9TyPJxrJD7ePMwnq8V+6MxfjR",
      "include_colab_link": true
    },
    "kernelspec": {
      "name": "python3",
      "display_name": "Python 3"
    },
    "language_info": {
      "name": "python"
    }
  },
  "cells": [
    {
      "cell_type": "markdown",
      "metadata": {
        "id": "view-in-github",
        "colab_type": "text"
      },
      "source": [
        "<a href=\"https://colab.research.google.com/github/AdityaMahaddalkar/pyspark-prototype/blob/master/PySpark_Prototype.ipynb\" target=\"_parent\"><img src=\"https://colab.research.google.com/assets/colab-badge.svg\" alt=\"Open In Colab\"/></a>"
      ]
    },
    {
      "cell_type": "code",
      "execution_count": 1,
      "metadata": {
        "id": "UD19OhAZoqv7",
        "colab": {
          "base_uri": "https://localhost:8080/"
        },
        "outputId": "a95fce2c-b88d-4f6a-8660-2abd23b97abf"
      },
      "outputs": [
        {
          "output_type": "stream",
          "name": "stdout",
          "text": [
            "Looking in indexes: https://pypi.org/simple, https://us-python.pkg.dev/colab-wheels/public/simple/\n",
            "Requirement already satisfied: pyspark in /usr/local/lib/python3.8/dist-packages (3.3.2)\n",
            "Requirement already satisfied: py4j==0.10.9.5 in /usr/local/lib/python3.8/dist-packages (from pyspark) (0.10.9.5)\n"
          ]
        }
      ],
      "source": [
        "!pip install pyspark"
      ]
    },
    {
      "cell_type": "code",
      "source": [
        "!wget 'https://raw.githubusercontent.com/datasciencedojo/datasets/master/titanic.csv' -O 'titanic.csv'"
      ],
      "metadata": {
        "colab": {
          "base_uri": "https://localhost:8080/"
        },
        "id": "KB30Cmf-sup_",
        "outputId": "c0352d82-7936-4cec-b655-f40d026db0b3"
      },
      "execution_count": 2,
      "outputs": [
        {
          "output_type": "stream",
          "name": "stdout",
          "text": [
            "--2023-03-02 14:57:58--  https://raw.githubusercontent.com/datasciencedojo/datasets/master/titanic.csv\n",
            "Resolving raw.githubusercontent.com (raw.githubusercontent.com)... 185.199.108.133, 185.199.109.133, 185.199.110.133, ...\n",
            "Connecting to raw.githubusercontent.com (raw.githubusercontent.com)|185.199.108.133|:443... connected.\n",
            "HTTP request sent, awaiting response... 200 OK\n",
            "Length: 60302 (59K) [text/plain]\n",
            "Saving to: ‘titanic.csv’\n",
            "\n",
            "\rtitanic.csv           0%[                    ]       0  --.-KB/s               \rtitanic.csv         100%[===================>]  58.89K  --.-KB/s    in 0.007s  \n",
            "\n",
            "2023-03-02 14:57:58 (7.69 MB/s) - ‘titanic.csv’ saved [60302/60302]\n",
            "\n"
          ]
        }
      ]
    },
    {
      "cell_type": "code",
      "source": [
        "from pyspark.sql import SparkSession\n",
        "\n",
        "spark = SparkSession.builder.appName('TitanicAnalyzer').getOrCreate()\n",
        "\n",
        "df = spark.read.csv('titanic.csv', header=True, inferSchema=True)\n",
        "\n",
        "df.show()"
      ],
      "metadata": {
        "colab": {
          "base_uri": "https://localhost:8080/"
        },
        "id": "Lu3fsLaKs3f7",
        "outputId": "da720e27-6f1d-4d4c-88ea-f6d65c7bf632"
      },
      "execution_count": 3,
      "outputs": [
        {
          "output_type": "stream",
          "name": "stdout",
          "text": [
            "+-----------+--------+------+--------------------+------+----+-----+-----+----------------+-------+-----+--------+\n",
            "|PassengerId|Survived|Pclass|                Name|   Sex| Age|SibSp|Parch|          Ticket|   Fare|Cabin|Embarked|\n",
            "+-----------+--------+------+--------------------+------+----+-----+-----+----------------+-------+-----+--------+\n",
            "|          1|       0|     3|Braund, Mr. Owen ...|  male|22.0|    1|    0|       A/5 21171|   7.25| null|       S|\n",
            "|          2|       1|     1|Cumings, Mrs. Joh...|female|38.0|    1|    0|        PC 17599|71.2833|  C85|       C|\n",
            "|          3|       1|     3|Heikkinen, Miss. ...|female|26.0|    0|    0|STON/O2. 3101282|  7.925| null|       S|\n",
            "|          4|       1|     1|Futrelle, Mrs. Ja...|female|35.0|    1|    0|          113803|   53.1| C123|       S|\n",
            "|          5|       0|     3|Allen, Mr. Willia...|  male|35.0|    0|    0|          373450|   8.05| null|       S|\n",
            "|          6|       0|     3|    Moran, Mr. James|  male|null|    0|    0|          330877| 8.4583| null|       Q|\n",
            "|          7|       0|     1|McCarthy, Mr. Tim...|  male|54.0|    0|    0|           17463|51.8625|  E46|       S|\n",
            "|          8|       0|     3|Palsson, Master. ...|  male| 2.0|    3|    1|          349909| 21.075| null|       S|\n",
            "|          9|       1|     3|Johnson, Mrs. Osc...|female|27.0|    0|    2|          347742|11.1333| null|       S|\n",
            "|         10|       1|     2|Nasser, Mrs. Nich...|female|14.0|    1|    0|          237736|30.0708| null|       C|\n",
            "|         11|       1|     3|Sandstrom, Miss. ...|female| 4.0|    1|    1|         PP 9549|   16.7|   G6|       S|\n",
            "|         12|       1|     1|Bonnell, Miss. El...|female|58.0|    0|    0|          113783|  26.55| C103|       S|\n",
            "|         13|       0|     3|Saundercock, Mr. ...|  male|20.0|    0|    0|       A/5. 2151|   8.05| null|       S|\n",
            "|         14|       0|     3|Andersson, Mr. An...|  male|39.0|    1|    5|          347082| 31.275| null|       S|\n",
            "|         15|       0|     3|Vestrom, Miss. Hu...|female|14.0|    0|    0|          350406| 7.8542| null|       S|\n",
            "|         16|       1|     2|Hewlett, Mrs. (Ma...|female|55.0|    0|    0|          248706|   16.0| null|       S|\n",
            "|         17|       0|     3|Rice, Master. Eugene|  male| 2.0|    4|    1|          382652| 29.125| null|       Q|\n",
            "|         18|       1|     2|Williams, Mr. Cha...|  male|null|    0|    0|          244373|   13.0| null|       S|\n",
            "|         19|       0|     3|Vander Planke, Mr...|female|31.0|    1|    0|          345763|   18.0| null|       S|\n",
            "|         20|       1|     3|Masselmani, Mrs. ...|female|null|    0|    0|            2649|  7.225| null|       C|\n",
            "+-----------+--------+------+--------------------+------+----+-----+-----+----------------+-------+-----+--------+\n",
            "only showing top 20 rows\n",
            "\n"
          ]
        }
      ]
    },
    {
      "cell_type": "markdown",
      "source": [
        "### Drop null rows in data"
      ],
      "metadata": {
        "id": "zfNWHp6owkAW"
      }
    },
    {
      "cell_type": "code",
      "source": [
        "df = df.dropna(how=\"any\")\n",
        "\n",
        "df.show()"
      ],
      "metadata": {
        "id": "cn-OumO0wYhj",
        "outputId": "431a229a-deb3-4599-a723-560bb63d30a0",
        "colab": {
          "base_uri": "https://localhost:8080/"
        }
      },
      "execution_count": 4,
      "outputs": [
        {
          "output_type": "stream",
          "name": "stdout",
          "text": [
            "+-----------+--------+------+--------------------+------+----+-----+-----+-----------+--------+-----------+--------+\n",
            "|PassengerId|Survived|Pclass|                Name|   Sex| Age|SibSp|Parch|     Ticket|    Fare|      Cabin|Embarked|\n",
            "+-----------+--------+------+--------------------+------+----+-----+-----+-----------+--------+-----------+--------+\n",
            "|          2|       1|     1|Cumings, Mrs. Joh...|female|38.0|    1|    0|   PC 17599| 71.2833|        C85|       C|\n",
            "|          4|       1|     1|Futrelle, Mrs. Ja...|female|35.0|    1|    0|     113803|    53.1|       C123|       S|\n",
            "|          7|       0|     1|McCarthy, Mr. Tim...|  male|54.0|    0|    0|      17463| 51.8625|        E46|       S|\n",
            "|         11|       1|     3|Sandstrom, Miss. ...|female| 4.0|    1|    1|    PP 9549|    16.7|         G6|       S|\n",
            "|         12|       1|     1|Bonnell, Miss. El...|female|58.0|    0|    0|     113783|   26.55|       C103|       S|\n",
            "|         22|       1|     2|Beesley, Mr. Lawr...|  male|34.0|    0|    0|     248698|    13.0|        D56|       S|\n",
            "|         24|       1|     1|Sloper, Mr. Willi...|  male|28.0|    0|    0|     113788|    35.5|         A6|       S|\n",
            "|         28|       0|     1|Fortune, Mr. Char...|  male|19.0|    3|    2|      19950|   263.0|C23 C25 C27|       S|\n",
            "|         53|       1|     1|Harper, Mrs. Henr...|female|49.0|    1|    0|   PC 17572| 76.7292|        D33|       C|\n",
            "|         55|       0|     1|Ostby, Mr. Engelh...|  male|65.0|    0|    1|     113509| 61.9792|        B30|       C|\n",
            "|         63|       0|     1|Harris, Mr. Henry...|  male|45.0|    1|    0|      36973|  83.475|        C83|       S|\n",
            "|         67|       1|     2|Nye, Mrs. (Elizab...|female|29.0|    0|    0| C.A. 29395|    10.5|        F33|       S|\n",
            "|         76|       0|     3|Moen, Mr. Sigurd ...|  male|25.0|    0|    0|     348123|    7.65|      F G73|       S|\n",
            "|         89|       1|     1|Fortune, Miss. Ma...|female|23.0|    3|    2|      19950|   263.0|C23 C25 C27|       S|\n",
            "|         93|       0|     1|Chaffee, Mr. Herb...|  male|46.0|    1|    0|W.E.P. 5734|  61.175|        E31|       S|\n",
            "|         97|       0|     1|Goldschmidt, Mr. ...|  male|71.0|    0|    0|   PC 17754| 34.6542|         A5|       C|\n",
            "|         98|       1|     1|Greenfield, Mr. W...|  male|23.0|    0|    1|   PC 17759| 63.3583|    D10 D12|       C|\n",
            "|        103|       0|     1|White, Mr. Richar...|  male|21.0|    0|    1|      35281| 77.2875|        D26|       S|\n",
            "|        111|       0|     1|Porter, Mr. Walte...|  male|47.0|    0|    0|     110465|    52.0|       C110|       S|\n",
            "|        119|       0|     1|Baxter, Mr. Quigg...|  male|24.0|    0|    1|   PC 17558|247.5208|    B58 B60|       C|\n",
            "+-----------+--------+------+--------------------+------+----+-----+-----+-----------+--------+-----------+--------+\n",
            "only showing top 20 rows\n",
            "\n"
          ]
        }
      ]
    },
    {
      "cell_type": "markdown",
      "source": [],
      "metadata": {
        "id": "L7nYwk80w_yG"
      }
    },
    {
      "cell_type": "markdown",
      "source": [
        "### Give average Age grouped by Sex"
      ],
      "metadata": {
        "id": "Gk2PsjgWtnSB"
      }
    },
    {
      "cell_type": "code",
      "source": [
        "from pyspark.sql.functions import avg\n",
        "\n",
        "avg_age_by_sex = df.groupBy(\"Sex\").agg(avg(\"Age\").alias(\"Average Age\"))\n",
        "\n",
        "avg_age_by_sex.show()"
      ],
      "metadata": {
        "colab": {
          "base_uri": "https://localhost:8080/"
        },
        "id": "kZR1CNEctgPx",
        "outputId": "59608f21-0d04-4957-c449-eaae05cd526a"
      },
      "execution_count": 5,
      "outputs": [
        {
          "output_type": "stream",
          "name": "stdout",
          "text": [
            "+------+-----------------+\n",
            "|   Sex|      Average Age|\n",
            "+------+-----------------+\n",
            "|female|32.67613636363637|\n",
            "|  male|38.45178947368421|\n",
            "+------+-----------------+\n",
            "\n"
          ]
        }
      ]
    },
    {
      "cell_type": "markdown",
      "source": [
        "### Give average Fare grouped by PClass"
      ],
      "metadata": {
        "id": "A7EtIoX_ubLz"
      }
    },
    {
      "cell_type": "code",
      "source": [
        "avg_fare_by_pclass = df.groupBy(\"PClass\").agg(avg(\"Fare\").alias(\"Average Fare\"))\n",
        "\n",
        "avg_fare_by_pclass.show()"
      ],
      "metadata": {
        "colab": {
          "base_uri": "https://localhost:8080/"
        },
        "id": "qX7-KzVGuAac",
        "outputId": "4481f8e2-e53f-4f79-870f-5525187233be"
      },
      "execution_count": 6,
      "outputs": [
        {
          "output_type": "stream",
          "name": "stdout",
          "text": [
            "+------+------------------+\n",
            "|PClass|      Average Fare|\n",
            "+------+------------------+\n",
            "|     1| 88.68322848101265|\n",
            "|     3|           11.0275|\n",
            "|     2|18.444446666666668|\n",
            "+------+------------------+\n",
            "\n"
          ]
        }
      ]
    },
    {
      "cell_type": "markdown",
      "source": [
        "### Find percentage of males and females who survived"
      ],
      "metadata": {
        "id": "PhIqpMq8veVo"
      }
    },
    {
      "cell_type": "code",
      "source": [
        "survived_df = df.filter(df.Survived == 1)\n",
        "\n",
        "counts_by_sex = survived_df.groupBy(\"Sex\").count()\n",
        "\n",
        "total_count = survived_df.count()\n",
        "\n",
        "percentage_male = counts_by_sex.filter(counts_by_sex.Sex == \"male\").selectExpr(\"count / {} * 100 as percentage\".format(total_count)).collect()[0][\"percentage\"]\n",
        "percentage_female = counts_by_sex.filter(counts_by_sex.Sex == \"female\").selectExpr(\"count / {} * 100 as percentage\".format(total_count)).collect()[0][\"percentage\"]\n",
        "\n",
        "print(\"Percentage of males who survived: {:.2f}%\".format(percentage_male))\n",
        "print(\"Percentage of females who survived: {:.2f}%\".format(percentage_female))"
      ],
      "metadata": {
        "colab": {
          "base_uri": "https://localhost:8080/"
        },
        "id": "g4wBlJrAutHV",
        "outputId": "1ee15f69-5198-405d-f89e-9b4bf471d831"
      },
      "execution_count": 7,
      "outputs": [
        {
          "output_type": "stream",
          "name": "stdout",
          "text": [
            "Percentage of males who survived: 33.33%\n",
            "Percentage of females who survived: 66.67%\n"
          ]
        }
      ]
    },
    {
      "cell_type": "markdown",
      "source": [
        "### Print all distinct values of column Embarked"
      ],
      "metadata": {
        "id": "qedEN4I9wVz8"
      }
    },
    {
      "cell_type": "code",
      "source": [
        "distinct_values = df.select(\"Embarked\").distinct().collect()\n",
        "\n",
        "print(\"Distinct values of 'Embarked' column:\")\n",
        "for row in distinct_values:\n",
        "    print(row[0])"
      ],
      "metadata": {
        "colab": {
          "base_uri": "https://localhost:8080/"
        },
        "id": "K3ImtE3CvuDi",
        "outputId": "fd7cde1f-f734-4edc-a746-69d20e563aba"
      },
      "execution_count": 8,
      "outputs": [
        {
          "output_type": "stream",
          "name": "stdout",
          "text": [
            "Distinct values of 'Embarked' column:\n",
            "Q\n",
            "C\n",
            "S\n"
          ]
        }
      ]
    },
    {
      "cell_type": "markdown",
      "source": [
        "### Split 'Name' column into First and Last name"
      ],
      "metadata": {
        "id": "ho9t6xzMxtCW"
      }
    },
    {
      "cell_type": "code",
      "source": [
        "from pyspark.sql.functions import split\n",
        "from pyspark.sql.functions import trim\n",
        "\n",
        "df = df.withColumn('Last Name', trim(split(df['Name'], ',').getItem(0)))\n",
        "df = df.withColumn('First Part of Name', trim(split(df['Name'], ',').getItem(1)))\n",
        "\n",
        "df.show()"
      ],
      "metadata": {
        "id": "aBswanXIwnVl",
        "outputId": "2ceb8402-cf6e-43da-b893-e77d21b81cbb",
        "colab": {
          "base_uri": "https://localhost:8080/"
        }
      },
      "execution_count": 9,
      "outputs": [
        {
          "output_type": "stream",
          "name": "stdout",
          "text": [
            "+-----------+--------+------+--------------------+------+----+-----+-----+-----------+--------+-----------+--------+-----------+--------------------+\n",
            "|PassengerId|Survived|Pclass|                Name|   Sex| Age|SibSp|Parch|     Ticket|    Fare|      Cabin|Embarked|  Last Name|  First Part of Name|\n",
            "+-----------+--------+------+--------------------+------+----+-----+-----+-----------+--------+-----------+--------+-----------+--------------------+\n",
            "|          2|       1|     1|Cumings, Mrs. Joh...|female|38.0|    1|    0|   PC 17599| 71.2833|        C85|       C|    Cumings|Mrs. John Bradley...|\n",
            "|          4|       1|     1|Futrelle, Mrs. Ja...|female|35.0|    1|    0|     113803|    53.1|       C123|       S|   Futrelle|Mrs. Jacques Heat...|\n",
            "|          7|       0|     1|McCarthy, Mr. Tim...|  male|54.0|    0|    0|      17463| 51.8625|        E46|       S|   McCarthy|       Mr. Timothy J|\n",
            "|         11|       1|     3|Sandstrom, Miss. ...|female| 4.0|    1|    1|    PP 9549|    16.7|         G6|       S|  Sandstrom|Miss. Marguerite Rut|\n",
            "|         12|       1|     1|Bonnell, Miss. El...|female|58.0|    0|    0|     113783|   26.55|       C103|       S|    Bonnell|     Miss. Elizabeth|\n",
            "|         22|       1|     2|Beesley, Mr. Lawr...|  male|34.0|    0|    0|     248698|    13.0|        D56|       S|    Beesley|        Mr. Lawrence|\n",
            "|         24|       1|     1|Sloper, Mr. Willi...|  male|28.0|    0|    0|     113788|    35.5|         A6|       S|     Sloper|Mr. William Thompson|\n",
            "|         28|       0|     1|Fortune, Mr. Char...|  male|19.0|    3|    2|      19950|   263.0|C23 C25 C27|       S|    Fortune|Mr. Charles Alexa...|\n",
            "|         53|       1|     1|Harper, Mrs. Henr...|female|49.0|    1|    0|   PC 17572| 76.7292|        D33|       C|     Harper|Mrs. Henry Sleepe...|\n",
            "|         55|       0|     1|Ostby, Mr. Engelh...|  male|65.0|    0|    1|     113509| 61.9792|        B30|       C|      Ostby|Mr. Engelhart Cor...|\n",
            "|         63|       0|     1|Harris, Mr. Henry...|  male|45.0|    1|    0|      36973|  83.475|        C83|       S|     Harris| Mr. Henry Birkhardt|\n",
            "|         67|       1|     2|Nye, Mrs. (Elizab...|female|29.0|    0|    0| C.A. 29395|    10.5|        F33|       S|        Nye|Mrs. (Elizabeth R...|\n",
            "|         76|       0|     3|Moen, Mr. Sigurd ...|  male|25.0|    0|    0|     348123|    7.65|      F G73|       S|       Moen|   Mr. Sigurd Hansen|\n",
            "|         89|       1|     1|Fortune, Miss. Ma...|female|23.0|    3|    2|      19950|   263.0|C23 C25 C27|       S|    Fortune|   Miss. Mabel Helen|\n",
            "|         93|       0|     1|Chaffee, Mr. Herb...|  male|46.0|    1|    0|W.E.P. 5734|  61.175|        E31|       S|    Chaffee|  Mr. Herbert Fuller|\n",
            "|         97|       0|     1|Goldschmidt, Mr. ...|  male|71.0|    0|    0|   PC 17754| 34.6542|         A5|       C|Goldschmidt|        Mr. George B|\n",
            "|         98|       1|     1|Greenfield, Mr. W...|  male|23.0|    0|    1|   PC 17759| 63.3583|    D10 D12|       C| Greenfield| Mr. William Bertram|\n",
            "|        103|       0|     1|White, Mr. Richar...|  male|21.0|    0|    1|      35281| 77.2875|        D26|       S|      White|  Mr. Richard Frasar|\n",
            "|        111|       0|     1|Porter, Mr. Walte...|  male|47.0|    0|    0|     110465|    52.0|       C110|       S|     Porter|Mr. Walter Chambe...|\n",
            "|        119|       0|     1|Baxter, Mr. Quigg...|  male|24.0|    0|    1|   PC 17558|247.5208|    B58 B60|       C|     Baxter|    Mr. Quigg Edmond|\n",
            "+-----------+--------+------+--------------------+------+----+-----+-----+-----------+--------+-----------+--------+-----------+--------------------+\n",
            "only showing top 20 rows\n",
            "\n"
          ]
        }
      ]
    },
    {
      "cell_type": "markdown",
      "source": [
        "### Split First Name into \"Initials First Name Middle Name\""
      ],
      "metadata": {
        "id": "RJfrfRQjzMc-"
      }
    },
    {
      "cell_type": "code",
      "source": [
        "df = df.withColumn('Initials', trim(split(df['First Part of Name'], ' ').getItem(0)))\n",
        "df = df.withColumn('First Name', trim(split(df['First Part of Name'], ' ').getItem(1)))\n",
        "df = df.withColumn('Middle Name', trim(split(df['First Part of Name'], ' ').getItem(2)))\n",
        "\n",
        "df.show()"
      ],
      "metadata": {
        "id": "HlMNDC2kza9F",
        "outputId": "3d049a6c-2019-41a9-dc6a-d38f02256971",
        "colab": {
          "base_uri": "https://localhost:8080/"
        }
      },
      "execution_count": 10,
      "outputs": [
        {
          "output_type": "stream",
          "name": "stdout",
          "text": [
            "+-----------+--------+------+--------------------+------+----+-----+-----+-----------+--------+-----------+--------+-----------+--------------------+--------+----------+-----------+\n",
            "|PassengerId|Survived|Pclass|                Name|   Sex| Age|SibSp|Parch|     Ticket|    Fare|      Cabin|Embarked|  Last Name|  First Part of Name|Initials|First Name|Middle Name|\n",
            "+-----------+--------+------+--------------------+------+----+-----+-----+-----------+--------+-----------+--------+-----------+--------------------+--------+----------+-----------+\n",
            "|          2|       1|     1|Cumings, Mrs. Joh...|female|38.0|    1|    0|   PC 17599| 71.2833|        C85|       C|    Cumings|Mrs. John Bradley...|    Mrs.|      John|    Bradley|\n",
            "|          4|       1|     1|Futrelle, Mrs. Ja...|female|35.0|    1|    0|     113803|    53.1|       C123|       S|   Futrelle|Mrs. Jacques Heat...|    Mrs.|   Jacques|      Heath|\n",
            "|          7|       0|     1|McCarthy, Mr. Tim...|  male|54.0|    0|    0|      17463| 51.8625|        E46|       S|   McCarthy|       Mr. Timothy J|     Mr.|   Timothy|          J|\n",
            "|         11|       1|     3|Sandstrom, Miss. ...|female| 4.0|    1|    1|    PP 9549|    16.7|         G6|       S|  Sandstrom|Miss. Marguerite Rut|   Miss.|Marguerite|        Rut|\n",
            "|         12|       1|     1|Bonnell, Miss. El...|female|58.0|    0|    0|     113783|   26.55|       C103|       S|    Bonnell|     Miss. Elizabeth|   Miss.| Elizabeth|       null|\n",
            "|         22|       1|     2|Beesley, Mr. Lawr...|  male|34.0|    0|    0|     248698|    13.0|        D56|       S|    Beesley|        Mr. Lawrence|     Mr.|  Lawrence|       null|\n",
            "|         24|       1|     1|Sloper, Mr. Willi...|  male|28.0|    0|    0|     113788|    35.5|         A6|       S|     Sloper|Mr. William Thompson|     Mr.|   William|   Thompson|\n",
            "|         28|       0|     1|Fortune, Mr. Char...|  male|19.0|    3|    2|      19950|   263.0|C23 C25 C27|       S|    Fortune|Mr. Charles Alexa...|     Mr.|   Charles|  Alexander|\n",
            "|         53|       1|     1|Harper, Mrs. Henr...|female|49.0|    1|    0|   PC 17572| 76.7292|        D33|       C|     Harper|Mrs. Henry Sleepe...|    Mrs.|     Henry|    Sleeper|\n",
            "|         55|       0|     1|Ostby, Mr. Engelh...|  male|65.0|    0|    1|     113509| 61.9792|        B30|       C|      Ostby|Mr. Engelhart Cor...|     Mr.| Engelhart|  Cornelius|\n",
            "|         63|       0|     1|Harris, Mr. Henry...|  male|45.0|    1|    0|      36973|  83.475|        C83|       S|     Harris| Mr. Henry Birkhardt|     Mr.|     Henry|  Birkhardt|\n",
            "|         67|       1|     2|Nye, Mrs. (Elizab...|female|29.0|    0|    0| C.A. 29395|    10.5|        F33|       S|        Nye|Mrs. (Elizabeth R...|    Mrs.|(Elizabeth|    Ramell)|\n",
            "|         76|       0|     3|Moen, Mr. Sigurd ...|  male|25.0|    0|    0|     348123|    7.65|      F G73|       S|       Moen|   Mr. Sigurd Hansen|     Mr.|    Sigurd|     Hansen|\n",
            "|         89|       1|     1|Fortune, Miss. Ma...|female|23.0|    3|    2|      19950|   263.0|C23 C25 C27|       S|    Fortune|   Miss. Mabel Helen|   Miss.|     Mabel|      Helen|\n",
            "|         93|       0|     1|Chaffee, Mr. Herb...|  male|46.0|    1|    0|W.E.P. 5734|  61.175|        E31|       S|    Chaffee|  Mr. Herbert Fuller|     Mr.|   Herbert|     Fuller|\n",
            "|         97|       0|     1|Goldschmidt, Mr. ...|  male|71.0|    0|    0|   PC 17754| 34.6542|         A5|       C|Goldschmidt|        Mr. George B|     Mr.|    George|          B|\n",
            "|         98|       1|     1|Greenfield, Mr. W...|  male|23.0|    0|    1|   PC 17759| 63.3583|    D10 D12|       C| Greenfield| Mr. William Bertram|     Mr.|   William|    Bertram|\n",
            "|        103|       0|     1|White, Mr. Richar...|  male|21.0|    0|    1|      35281| 77.2875|        D26|       S|      White|  Mr. Richard Frasar|     Mr.|   Richard|     Frasar|\n",
            "|        111|       0|     1|Porter, Mr. Walte...|  male|47.0|    0|    0|     110465|    52.0|       C110|       S|     Porter|Mr. Walter Chambe...|     Mr.|    Walter|Chamberlain|\n",
            "|        119|       0|     1|Baxter, Mr. Quigg...|  male|24.0|    0|    1|   PC 17558|247.5208|    B58 B60|       C|     Baxter|    Mr. Quigg Edmond|     Mr.|     Quigg|     Edmond|\n",
            "+-----------+--------+------+--------------------+------+----+-----+-----+-----------+--------+-----------+--------+-----------+--------------------+--------+----------+-----------+\n",
            "only showing top 20 rows\n",
            "\n"
          ]
        }
      ]
    },
    {
      "cell_type": "markdown",
      "source": [],
      "metadata": {
        "id": "lCUvDe_PyDiV"
      }
    },
    {
      "cell_type": "code",
      "source": [
        "df_grouped = df.groupBy('Last Name').count().orderBy('count', ascending=False)\n",
        "\n",
        "df_grouped.show()"
      ],
      "metadata": {
        "id": "FlrhR3zpx2iy",
        "outputId": "73ac2785-e711-47a5-d493-27e66bfde6c2",
        "colab": {
          "base_uri": "https://localhost:8080/"
        }
      },
      "execution_count": 11,
      "outputs": [
        {
          "output_type": "stream",
          "name": "stdout",
          "text": [
            "+--------------------+-----+\n",
            "|           Last Name|count|\n",
            "+--------------------+-----+\n",
            "|             Fortune|    4|\n",
            "|              Carter|    4|\n",
            "|              Thayer|    3|\n",
            "|             Allison|    3|\n",
            "|              Newell|    3|\n",
            "|              Graham|    3|\n",
            "|             Taussig|    3|\n",
            "|              Baxter|    2|\n",
            "|               Pears|    2|\n",
            "|             Minahan|    2|\n",
            "|                Hays|    2|\n",
            "|             Andrews|    2|\n",
            "|              Harris|    2|\n",
            "|        \"Duff Gordon|    2|\n",
            "|                Dick|    2|\n",
            "|               White|    2|\n",
            "|Penasco y Castellana|    2|\n",
            "|            Chambers|    2|\n",
            "|                Moor|    2|\n",
            "|                Hoyt|    2|\n",
            "+--------------------+-----+\n",
            "only showing top 20 rows\n",
            "\n"
          ]
        }
      ]
    },
    {
      "cell_type": "code",
      "source": [],
      "metadata": {
        "id": "85sKXQbHyg7Y"
      },
      "execution_count": 11,
      "outputs": []
    }
  ]
}